{
 "cells": [
  {
   "cell_type": "code",
   "execution_count": 1,
   "metadata": {},
   "outputs": [
    {
     "name": "stdout",
     "output_type": "stream",
     "text": [
      "/Users/hoangle/Uni/Thesis\n"
     ]
    }
   ],
   "source": [
    "%load_ext autoreload\n",
    "%autoreload 2\n",
    "\n",
    "%cd ../"
   ]
  },
  {
   "cell_type": "code",
   "execution_count": 2,
   "metadata": {},
   "outputs": [],
   "source": [
    "import warnings\n",
    "warnings.simplefilter(action=\"ignore\", category=FutureWarning)"
   ]
  },
  {
   "cell_type": "code",
   "execution_count": 3,
   "metadata": {},
   "outputs": [],
   "source": [
    "import pandas as pd\n",
    "import torch\n",
    "from recbole.config import Config\n",
    "from recbole.data import create_dataset\n",
    "from recbole.utils import (\n",
    "    get_model,\n",
    "    get_trainer,\n",
    "    init_seed,\n",
    "    ModelType\n",
    ")\n",
    "\n",
    "import src.utils as utils\n",
    "from src.real_temporal import SimulatedOnlineSequentialDataset, SimulatedOnlineDataset"
   ]
  },
  {
   "cell_type": "markdown",
   "metadata": {},
   "source": [
    "# Load checkpoint"
   ]
  },
  {
   "cell_type": "code",
   "execution_count": 10,
   "metadata": {},
   "outputs": [],
   "source": [
    "separate_activeness = False\n",
    "cutoff_time = 976324045"
   ]
  },
  {
   "cell_type": "code",
   "execution_count": 11,
   "metadata": {},
   "outputs": [],
   "source": [
    "path = \"/Users/hoangle/Desktop/GRU4Rec-Aug-05-2024_16-36-56.pth\""
   ]
  },
  {
   "cell_type": "code",
   "execution_count": 12,
   "metadata": {},
   "outputs": [],
   "source": [
    "# config, model, dataset, train_data, valid_data, test_data = load_data_and_model(model_file=path)\n",
    "chkpt = torch.load(path, map_location=torch.device('cpu'))\n",
    "\n",
    "config = chkpt['config']\n",
    "config['device'] = torch.device('cpu')\n",
    "config['use_gpu'] = False\n",
    "\n",
    "if separate_activeness is True:\n",
    "    if config['cutoff_time'] is None:\n",
    "        config['cutoff_time'] = cutoff_time\n",
    "\n",
    "init_seed(config[\"seed\"], config[\"reproducibility\"])"
   ]
  },
  {
   "cell_type": "markdown",
   "metadata": {},
   "source": [
    "# Define dataset"
   ]
  },
  {
   "cell_type": "code",
   "execution_count": 13,
   "metadata": {},
   "outputs": [],
   "source": [
    "if config[\"scheme\"] == \"so\":\n",
    "    match (config[\"MODEL_TYPE\"]):\n",
    "        case ModelType.GENERAL | ModelType.CONTEXT | ModelType.TRADITIONAL:\n",
    "            ds = \"SimulatedOnlineDataset\"\n",
    "        case ModelType.SEQUENTIAL:\n",
    "            ds = \"SimulatedOnlineSequentialDataset\"\n",
    "        case _:\n",
    "            print(f\"model type: {config['MODEL_TYPE']}\")\n",
    "            raise NotImplementedError()\n",
    "\n",
    "    dataset = eval(ds)(config)\n",
    "elif config[\"scheme\"] == \"loo\":\n",
    "    dataset = create_dataset(config)\n",
    "else:\n",
    "    raise NotImplementedError()\n",
    "\n",
    "separate_activeness = config[\"scheme\"] == \"loo\"\n",
    "loaders = utils.get_loader(\n",
    "    dataset, config, separate_activeness, config[\"cutoff_time\"]\n",
    ")\n",
    "\n",
    "# Define model\n",
    "model_name = config[\"model\"]\n",
    "model = get_model(model_name)(config, loaders[\"train\"]._dataset).to(config[\"device\"])\n",
    "model.load_state_dict(chkpt['state_dict'])\n",
    "model.load_other_parameter(chkpt['other_parameter'])\n",
    "\n",
    "# Define trainer\n",
    "trainer = get_trainer(config[\"MODEL_TYPE\"], config[\"model\"])(config, model)"
   ]
  },
  {
   "cell_type": "markdown",
   "metadata": {},
   "source": [
    "# Start evaluation"
   ]
  },
  {
   "cell_type": "code",
   "execution_count": null,
   "metadata": {},
   "outputs": [],
   "source": [
    "result_val_ns = dict(trainer.evaluate(loaders[\"val_ns\"], model_file=path))\n",
    "result_val_non = dict(trainer.evaluate(loaders[\"val_non\"], model_file=path))\n",
    "\n",
    "result_test_ns = dict(trainer.evaluate(loaders[\"test_ns\"], model_file=path))\n",
    "result_test_non = dict(trainer.evaluate(loaders[\"test_non\"], model_file=path))\n",
    "\n",
    "if separate_activeness is True:\n",
    "    result_val_act_ns = dict(trainer.evaluate(loaders[\"val_act_ns\"], model_file=path))\n",
    "    result_test_act_ns = dict(trainer.evaluate(loaders[\"test_act_ns\"], model_file=path))\n",
    "    result_val_inact_ns = dict(trainer.evaluate(loaders[\"val_inact_ns\"], model_file=path))\n",
    "    result_test_inact_ns = dict(trainer.evaluate(loaders[\"test_inact_ns\"], model_file=path))\n",
    "\n",
    "    result_val_act_non = dict(trainer.evaluate(loaders[\"val_act_non\"], model_file=path))\n",
    "    result_test_act_non = dict(trainer.evaluate(loaders[\"test_act_non\"], model_file=path))\n",
    "    result_val_inact_non = dict(trainer.evaluate(loaders[\"val_inact_non\"], model_file=path))\n",
    "    result_test_inact_non = dict(trainer.evaluate(loaders[\"test_inact_non\"], model_file=path))"
   ]
  },
  {
   "cell_type": "code",
   "execution_count": 14,
   "metadata": {},
   "outputs": [],
   "source": [
    "results = {}\n",
    "\n",
    "if separate_activeness is True:\n",
    "    pairs = [\n",
    "        (\"Inactive\", test_data_inactive),\n",
    "        (\"Active\", test_data_active),\n",
    "    ]\n",
    "\n",
    "    for tag, test_data in pairs:\n",
    "        test_result = trainer.evaluate(test_data, model_file=path)\n",
    "\n",
    "        results[tag] = dict(test_result)\n",
    "\n",
    "else:\n",
    "    test_result = trainer.evaluate(test_data, model_file=path)\n",
    "\n",
    "    results['test_all'] = dict(test_result)\n",
    "\n",
    "pd.DataFrame(results).transpose()"
   ]
  }
 ],
 "metadata": {
  "kernelspec": {
   "display_name": "thesis",
   "language": "python",
   "name": "python3"
  },
  "language_info": {
   "codemirror_mode": {
    "name": "ipython",
    "version": 3
   },
   "file_extension": ".py",
   "mimetype": "text/x-python",
   "name": "python",
   "nbconvert_exporter": "python",
   "pygments_lexer": "ipython3",
   "version": "3.10.14"
  }
 },
 "nbformat": 4,
 "nbformat_minor": 2
}
