{
 "cells": [
  {
   "cell_type": "code",
   "execution_count": 1,
   "metadata": {},
   "outputs": [
    {
     "name": "stdout",
     "output_type": "stream",
     "text": [
      "/scratch/project_2010450/thesis\n"
     ]
    }
   ],
   "source": [
    "%cd ../"
   ]
  },
  {
   "cell_type": "code",
   "execution_count": 2,
   "metadata": {},
   "outputs": [],
   "source": [
    "import json\n",
    "import re\n",
    "from pathlib import Path\n",
    "\n",
    "import pandas as pd\n",
    "import numpy as np"
   ]
  },
  {
   "cell_type": "code",
   "execution_count": 3,
   "metadata": {},
   "outputs": [],
   "source": [
    "path_dir = Path(\"/scratch/project_2010450/thesis/logs\")"
   ]
  },
  {
   "cell_type": "code",
   "execution_count": 4,
   "metadata": {},
   "outputs": [],
   "source": [
    "DATASETS = [\n",
    "    'ml-1m',\n",
    "    'amazon-digital-music'\n",
    "]\n",
    "\n",
    "METRICS = [\n",
    "    'ndcg@10',\n",
    "    'precision@10',\n",
    "    'recall@10',\n",
    "    'mrr@10',\n",
    "    'hit@10',\n",
    "    'map@10',\n",
    "]"
   ]
  },
  {
   "cell_type": "code",
   "execution_count": 5,
   "metadata": {},
   "outputs": [
    {
     "name": "stdout",
     "output_type": "stream",
     "text": [
      "HGN-amazon-digital-music-Leave-one-out\n",
      "HGN-amazon-digital-music-Simulated Online\n",
      "GRU4Rec-ml-1m-Simulated Online\n",
      "ItemKNN-amazon-digital-music-Leave-one-out\n",
      "ENMF-ml-1m-Simulated Online\n",
      "ENMF-ml-1m-Leave-one-out\n",
      "HGN-ml-1m-Simulated Online\n",
      "BPR-ml-1m-Leave-one-out\n",
      "BPR-ml-1m-Simulated Online\n",
      "ItemKNN-ml-1m-Leave-one-out\n",
      "BPR-amazon-digital-music-Simulated Online\n",
      "GRU4Rec-ml-1m-Leave-one-out\n",
      "ItemKNN-amazon-digital-music-Simulated Online\n",
      "GRU4Rec-amazon-digital-music-Leave-one-out\n",
      "BERT4Rec-amazon-digital-music-Leave-one-out\n",
      "BERT4Rec-ml-1m-Simulated Online\n",
      "NPE-ml-1m-Simulated Online\n",
      "BERT4Rec-amazon-digital-music-Simulated Online\n",
      "NPE-amazon-digital-music-Simulated Online\n",
      "GRU4Rec-amazon-digital-music-Simulated Online\n",
      "NPE-amazon-digital-music-Leave-one-out\n",
      "NPE-ml-1m-Leave-one-out\n",
      "BPR-amazon-digital-music-Leave-one-out\n",
      "BERT4Rec-ml-1m-Leave-one-out\n",
      "ENMF-amazon-digital-music-Simulated Online\n",
      "ItemKNN-ml-1m-Simulated Online\n",
      "ENMF-amazon-digital-music-Leave-one-out\n",
      "HGN-ml-1m-Leave-one-out\n"
     ]
    }
   ],
   "source": [
    "results = []\n",
    "\n",
    "for path in path_dir.glob(\"Aug*/tune_result.json\"):\n",
    "    path = str(path)\n",
    "\n",
    "    # Read file\n",
    "    with open(path) as f:\n",
    "        raw = json.load(f)['best_result']\n",
    "\n",
    "    result = {}\n",
    "    # Determine model, dataset, evaluation scheme\n",
    "    model = raw['model']\n",
    "\n",
    "    dataset = \"\"\n",
    "    for name in DATASETS:\n",
    "        if name in path:\n",
    "            dataset = name\n",
    "            break\n",
    "    assert dataset != \"\"\n",
    "\n",
    "    pat = r\"usecutoff\\_(True|False)\"\n",
    "\n",
    "    match (re.findall(pat, path)[0]):\n",
    "        case 'True':\n",
    "            scheme = \"Simulated Online\"\n",
    "        case 'False':\n",
    "            scheme = \"Leave-one-out\"\n",
    "        case _:\n",
    "            raise NotImplementedError()\n",
    "\n",
    "    print(f\"{model}-{dataset}-{scheme}\")\n",
    "    result = {\n",
    "        **result,\n",
    "        'model': model,\n",
    "        'dataset': dataset,\n",
    "        'evaluation_scheme': scheme\n",
    "    }\n",
    "\n",
    "    # Extract metrics\n",
    "    records = [\n",
    "        (\"val_overall\", raw['best_valid_result']),\n",
    "        (\"val_active\", raw.get('valid_result_active', None)),\n",
    "        (\"val_inactive\", raw.get('valid_result_inactive', None)),\n",
    "        (\"test_overall\", raw['test_result']),\n",
    "        (\"test_active\", raw.get('test_result_active', None)),\n",
    "        (\"test_inactive\", raw.get('test_result_inactive', None)),\n",
    "    ]\n",
    "\n",
    "    for tag, record in records:\n",
    "        if record is not None:\n",
    "            for metric, val in record.items():\n",
    "                result[f\"{tag}_{metric}\"] = val\n",
    "        else:\n",
    "            for metric in METRICS:\n",
    "                result[f\"{tag}_{metric}\"] = np.nan\n",
    "    \n",
    "    results.append(result)\n",
    "\n",
    "\n",
    "pd.DataFrame.from_records(results).to_csv(\"metrics.csv\", index=None)"
   ]
  }
 ],
 "metadata": {
  "kernelspec": {
   "display_name": "thesis_venv",
   "language": "python",
   "name": "python3"
  },
  "language_info": {
   "codemirror_mode": {
    "name": "ipython",
    "version": 3
   },
   "file_extension": ".py",
   "mimetype": "text/x-python",
   "name": "python",
   "nbconvert_exporter": "python",
   "pygments_lexer": "ipython3",
   "version": "3.10.14"
  }
 },
 "nbformat": 4,
 "nbformat_minor": 2
}
