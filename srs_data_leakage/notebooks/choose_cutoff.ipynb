{
 "cells": [
  {
   "cell_type": "code",
   "execution_count": 1,
   "metadata": {},
   "outputs": [
    {
     "name": "stdout",
     "output_type": "stream",
     "text": [
      "/home/hoanghu/projects/Thesis\n"
     ]
    }
   ],
   "source": [
    "%cd ../\n",
    "\n",
    "%load_ext autoreload\n",
    "%autoreload 2"
   ]
  },
  {
   "cell_type": "code",
   "execution_count": 2,
   "metadata": {},
   "outputs": [],
   "source": [
    "import warnings\n",
    "warnings.simplefilter(action=\"ignore\", category=FutureWarning)"
   ]
  },
  {
   "cell_type": "code",
   "execution_count": 3,
   "metadata": {},
   "outputs": [],
   "source": [
    "from collections import defaultdict\n",
    "import datetime\n",
    "\n",
    "import pandas as pd\n",
    "import yaml\n",
    "\n",
    "from recbole.config import Config\n",
    "from recbole.data import (\n",
    "    create_dataset,\n",
    "    data_preparation,\n",
    ")\n",
    "from recbole.utils import init_seed\n",
    "\n",
    "from src.utils import Paths"
   ]
  },
  {
   "cell_type": "markdown",
   "metadata": {},
   "source": [
    "# Get suitable cutoff"
   ]
  },
  {
   "cell_type": "code",
   "execution_count": 35,
   "metadata": {},
   "outputs": [
    {
     "name": "stdout",
     "output_type": "stream",
     "text": [
      "max_ts: 2019-12-13 07:50:49+00:00\n",
      "min_ts: 2004-10-18 18:46:40+00:00\n",
      "cutoff: 2017-06-06 21:04:50+00:00\n",
      "No. active users after removing invalid users (with n_min_inter = 2): 166376\n",
      "yelp: (1496783090.0, 184613)\n"
     ]
    }
   ],
   "source": [
    "def get_suitable_cutoff(ds_name: str, model_name: str = \"S3Rec\", scheme: str = \"so\", n_min_inter: int = 2) -> tuple:\n",
    "    \"\"\"Get suitable cutoff timestamp: at which there are the most active users\n",
    "\n",
    "    Args:\n",
    "        ds_name (str): dataset name\n",
    "\n",
    "    Returns:\n",
    "        tuple: suitable timestamp and the number of active users\n",
    "    \"\"\"\n",
    "\n",
    "    # Get dataset without normalizing the timestamp\n",
    "    config_dict = {\n",
    "        'normalize_all': False,\n",
    "        'user_inter_num_interval': \"[5,inf)\",\n",
    "        'item_inter_num_interval': \"[5,inf)\",\n",
    "        'device': 'cpu',\n",
    "        'use_gpu': False,\n",
    "\n",
    "        'train_neg_sample_args': None,\n",
    "\n",
    "        'eval_args': {\n",
    "            \"order\": \"TO\",\n",
    "            \"split\": { \"LS\": \"valid_and_test\" },\n",
    "            \"group_by\": None,\n",
    "            'mode': 'pop100'\n",
    "        },\n",
    "    }\n",
    "\n",
    "    # Get additional dataset-specific config\n",
    "    paths = Paths(model_name, ds_name, scheme)\n",
    "\n",
    "    with open(paths.get_path_dataset_conf()) as f:\n",
    "        data = yaml.load(f, Loader=yaml.FullLoader)\n",
    "    config_dict.update(data)\n",
    "\n",
    "    config = Config(\n",
    "        model=model_name,\n",
    "        dataset=ds_name,\n",
    "        config_dict=config_dict,\n",
    "    )\n",
    "    init_seed(config[\"seed\"], config[\"reproducibility\"])\n",
    "    df = create_dataset(config).inter_feat.copy()\n",
    "\n",
    "    # Create dataframe of users and corresponding first/last timestamp\n",
    "    user_max_ts = df.groupby('user_id')['timestamp'].max()\n",
    "    user_min_ts = df.groupby('user_id')['timestamp'].min()\n",
    "\n",
    "    print(f\"max_ts: {datetime.datetime.fromtimestamp(df['timestamp'].max(), datetime.timezone.utc)}\")\n",
    "    print(f\"min_ts: {datetime.datetime.fromtimestamp(df['timestamp'].min(), datetime.timezone.utc)}\")\n",
    "\n",
    "    df_user = pd.DataFrame(\n",
    "        {\n",
    "            'max': user_max_ts,\n",
    "            'min': user_min_ts,\n",
    "        },\n",
    "        index=user_max_ts.index\n",
    "    )\n",
    "\n",
    "    counts = defaultdict(int) \n",
    "    for ts in df_user['min']:\n",
    "        counts[ts] += 1\n",
    "    for ts in df_user['max']:\n",
    "        counts[ts] -= 1\n",
    "\n",
    "    timestamps = sorted(counts.keys())\n",
    "    accum = {}\n",
    "\n",
    "    s = 0\n",
    "    for ts in timestamps:\n",
    "        s += counts[ts]\n",
    "        accum[ts] = s\n",
    "    series = pd.Series(accum)\n",
    "\n",
    "    suitable_ts = series.idxmax()\n",
    "    max_active_user = series[suitable_ts]\n",
    "\n",
    "    print(f\"cutoff: {datetime.datetime.fromtimestamp(suitable_ts, datetime.timezone.utc)}\")\n",
    "\n",
    "    # Find no.active users after removing invalid users\n",
    "    inters_before = df[df['timestamp'] <= suitable_ts]\n",
    "    inters_after = df[df['timestamp'] > suitable_ts]\n",
    "\n",
    "    counts = inters_before.groupby('user_id')['timestamp'].count()\n",
    "    users_invalid = counts[counts < n_min_inter].index\n",
    "\n",
    "    users_before = set(inters_before[~inters_before['user_id'].isin(users_invalid)]['user_id'].unique())\n",
    "    users_after = set(inters_after[~inters_after['user_id'].isin(users_invalid)]['user_id'].unique())\n",
    "\n",
    "    n_active_users_refined = len(users_before.intersection(users_after))\n",
    "    print(f\"No. active users after removing invalid users (with n_min_inter = {n_min_inter}): {n_active_users_refined}\")\n",
    "\n",
    "\n",
    "    return suitable_ts, max_active_user, n_active_users_refined\n",
    "\n",
    "# ds = \"ml-100k\"\n",
    "# ds = \"amazon-digital-music\"\n",
    "\n",
    "# ds = \"ml-1m\"\n",
    "# ds = \"amazon-beauty\" \n",
    "ds = \"yelp\"\n",
    "# ds = \"steam\"\n",
    "print(f\"{ds}: {get_suitable_cutoff(ds)}\")"
   ]
  }
 ],
 "metadata": {
  "kernelspec": {
   "display_name": "thesis",
   "language": "python",
   "name": "python3"
  },
  "language_info": {
   "codemirror_mode": {
    "name": "ipython",
    "version": 3
   },
   "file_extension": ".py",
   "mimetype": "text/x-python",
   "name": "python",
   "nbconvert_exporter": "python",
   "pygments_lexer": "ipython3",
   "version": "3.11.9"
  }
 },
 "nbformat": 4,
 "nbformat_minor": 2
}
