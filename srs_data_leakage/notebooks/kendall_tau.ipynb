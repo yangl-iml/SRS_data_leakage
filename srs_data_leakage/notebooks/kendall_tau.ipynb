{
 "cells": [
  {
   "cell_type": "code",
   "execution_count": 1,
   "metadata": {},
   "outputs": [
    {
     "name": "stdout",
     "output_type": "stream",
     "text": [
      "/Users/macos/Uni/Thesis\n"
     ]
    }
   ],
   "source": [
    "%cd ../"
   ]
  },
  {
   "cell_type": "code",
   "execution_count": 2,
   "metadata": {},
   "outputs": [],
   "source": [
    "import matplotlib.pyplot as plt\n",
    "import numpy as np\n",
    "import pandas as pd\n",
    "import seaborn as sns\n",
    "from scipy.stats import kendalltau"
   ]
  },
  {
   "cell_type": "code",
   "execution_count": 3,
   "metadata": {},
   "outputs": [],
   "source": [
    "plt.style.use('seaborn-v0_8')\n",
    "plt.rcParams.update({'font.size': 8})"
   ]
  },
  {
   "cell_type": "code",
   "execution_count": 5,
   "metadata": {},
   "outputs": [
    {
     "data": {
      "text/html": [
       "<div>\n",
       "<style scoped>\n",
       "    .dataframe tbody tr th:only-of-type {\n",
       "        vertical-align: middle;\n",
       "    }\n",
       "\n",
       "    .dataframe tbody tr th {\n",
       "        vertical-align: top;\n",
       "    }\n",
       "\n",
       "    .dataframe thead th {\n",
       "        text-align: right;\n",
       "    }\n",
       "</style>\n",
       "<table border=\"1\" class=\"dataframe\">\n",
       "  <thead>\n",
       "    <tr style=\"text-align: right;\">\n",
       "      <th></th>\n",
       "      <th>model_name</th>\n",
       "      <th>dataset</th>\n",
       "      <th>use_cutoff</th>\n",
       "      <th>loss</th>\n",
       "      <th>val_ndcg@10</th>\n",
       "      <th>val_precision@10</th>\n",
       "      <th>val_recall@10</th>\n",
       "      <th>val_mrr@10</th>\n",
       "      <th>val_hit@10</th>\n",
       "      <th>val_map@10</th>\n",
       "      <th>test_ndcg@10</th>\n",
       "      <th>test_precision@10</th>\n",
       "      <th>test_recall@10</th>\n",
       "      <th>test_mrr@10</th>\n",
       "      <th>test_hit@10</th>\n",
       "      <th>test_map@10</th>\n",
       "    </tr>\n",
       "  </thead>\n",
       "  <tbody>\n",
       "    <tr>\n",
       "      <th>0</th>\n",
       "      <td>NPE</td>\n",
       "      <td>ml-1m</td>\n",
       "      <td>True</td>\n",
       "      <td>BPR</td>\n",
       "      <td>0.0203</td>\n",
       "      <td>0.0047</td>\n",
       "      <td>0.0470</td>\n",
       "      <td>0.0125</td>\n",
       "      <td>0.0470</td>\n",
       "      <td>0.0125</td>\n",
       "      <td>0.0087</td>\n",
       "      <td>0.0023</td>\n",
       "      <td>0.0227</td>\n",
       "      <td>0.0046</td>\n",
       "      <td>0.0227</td>\n",
       "      <td>0.0046</td>\n",
       "    </tr>\n",
       "    <tr>\n",
       "      <th>1</th>\n",
       "      <td>NPE</td>\n",
       "      <td>ml-1m</td>\n",
       "      <td>True</td>\n",
       "      <td>CE</td>\n",
       "      <td>0.0365</td>\n",
       "      <td>0.0080</td>\n",
       "      <td>0.0795</td>\n",
       "      <td>0.0237</td>\n",
       "      <td>0.0795</td>\n",
       "      <td>0.0237</td>\n",
       "      <td>0.0062</td>\n",
       "      <td>0.0016</td>\n",
       "      <td>0.0160</td>\n",
       "      <td>0.0033</td>\n",
       "      <td>0.0160</td>\n",
       "      <td>0.0033</td>\n",
       "    </tr>\n",
       "    <tr>\n",
       "      <th>2</th>\n",
       "      <td>NPE</td>\n",
       "      <td>ml-1m</td>\n",
       "      <td>False</td>\n",
       "      <td>BPR</td>\n",
       "      <td>0.0220</td>\n",
       "      <td>0.0052</td>\n",
       "      <td>0.0518</td>\n",
       "      <td>0.0132</td>\n",
       "      <td>0.0518</td>\n",
       "      <td>0.0132</td>\n",
       "      <td>0.0174</td>\n",
       "      <td>0.0042</td>\n",
       "      <td>0.0417</td>\n",
       "      <td>0.0102</td>\n",
       "      <td>0.0417</td>\n",
       "      <td>0.0102</td>\n",
       "    </tr>\n",
       "    <tr>\n",
       "      <th>3</th>\n",
       "      <td>NPE</td>\n",
       "      <td>ml-1m</td>\n",
       "      <td>False</td>\n",
       "      <td>CE</td>\n",
       "      <td>0.0341</td>\n",
       "      <td>0.0077</td>\n",
       "      <td>0.0775</td>\n",
       "      <td>0.0213</td>\n",
       "      <td>0.0775</td>\n",
       "      <td>0.0213</td>\n",
       "      <td>0.0317</td>\n",
       "      <td>0.0071</td>\n",
       "      <td>0.0705</td>\n",
       "      <td>0.0202</td>\n",
       "      <td>0.0705</td>\n",
       "      <td>0.0202</td>\n",
       "    </tr>\n",
       "    <tr>\n",
       "      <th>4</th>\n",
       "      <td>BERT4Rec</td>\n",
       "      <td>ml-1m</td>\n",
       "      <td>True</td>\n",
       "      <td>BPR</td>\n",
       "      <td>0.0843</td>\n",
       "      <td>0.0172</td>\n",
       "      <td>0.1718</td>\n",
       "      <td>0.0580</td>\n",
       "      <td>0.1718</td>\n",
       "      <td>0.0580</td>\n",
       "      <td>0.0151</td>\n",
       "      <td>0.0035</td>\n",
       "      <td>0.0353</td>\n",
       "      <td>0.0091</td>\n",
       "      <td>0.0353</td>\n",
       "      <td>0.0091</td>\n",
       "    </tr>\n",
       "  </tbody>\n",
       "</table>\n",
       "</div>"
      ],
      "text/plain": [
       "  model_name dataset  use_cutoff loss  val_ndcg@10  val_precision@10  \\\n",
       "0        NPE   ml-1m        True  BPR       0.0203            0.0047   \n",
       "1        NPE   ml-1m        True   CE       0.0365            0.0080   \n",
       "2        NPE   ml-1m       False  BPR       0.0220            0.0052   \n",
       "3        NPE   ml-1m       False   CE       0.0341            0.0077   \n",
       "4   BERT4Rec   ml-1m        True  BPR       0.0843            0.0172   \n",
       "\n",
       "   val_recall@10  val_mrr@10  val_hit@10  val_map@10  test_ndcg@10  \\\n",
       "0         0.0470      0.0125      0.0470      0.0125        0.0087   \n",
       "1         0.0795      0.0237      0.0795      0.0237        0.0062   \n",
       "2         0.0518      0.0132      0.0518      0.0132        0.0174   \n",
       "3         0.0775      0.0213      0.0775      0.0213        0.0317   \n",
       "4         0.1718      0.0580      0.1718      0.0580        0.0151   \n",
       "\n",
       "   test_precision@10  test_recall@10  test_mrr@10  test_hit@10  test_map@10  \n",
       "0             0.0023          0.0227       0.0046       0.0227       0.0046  \n",
       "1             0.0016          0.0160       0.0033       0.0160       0.0033  \n",
       "2             0.0042          0.0417       0.0102       0.0417       0.0102  \n",
       "3             0.0071          0.0705       0.0202       0.0705       0.0202  \n",
       "4             0.0035          0.0353       0.0091       0.0353       0.0091  "
      ]
     },
     "execution_count": 5,
     "metadata": {},
     "output_type": "execute_result"
    }
   ],
   "source": [
    "path = \"/Users/macos/Library/CloudStorage/OneDrive-UniversityofHelsinki/Thesis/running_results.xlsx\"\n",
    "\n",
    "df_raw = pd.read_excel(path, header=1)\n",
    "\n",
    "df_raw.head()"
   ]
  },
  {
   "cell_type": "code",
   "execution_count": 6,
   "metadata": {},
   "outputs": [
    {
     "data": {
      "text/html": [
       "<div>\n",
       "<style scoped>\n",
       "    .dataframe tbody tr th:only-of-type {\n",
       "        vertical-align: middle;\n",
       "    }\n",
       "\n",
       "    .dataframe tbody tr th {\n",
       "        vertical-align: top;\n",
       "    }\n",
       "\n",
       "    .dataframe thead th {\n",
       "        text-align: right;\n",
       "    }\n",
       "</style>\n",
       "<table border=\"1\" class=\"dataframe\">\n",
       "  <thead>\n",
       "    <tr style=\"text-align: right;\">\n",
       "      <th></th>\n",
       "      <th>model_name</th>\n",
       "      <th>dataset</th>\n",
       "      <th>use_cutoff</th>\n",
       "      <th>test_ndcg@10</th>\n",
       "    </tr>\n",
       "  </thead>\n",
       "  <tbody>\n",
       "    <tr>\n",
       "      <th>1</th>\n",
       "      <td>NPE</td>\n",
       "      <td>ml-1m</td>\n",
       "      <td>True</td>\n",
       "      <td>0.0062</td>\n",
       "    </tr>\n",
       "    <tr>\n",
       "      <th>3</th>\n",
       "      <td>NPE</td>\n",
       "      <td>ml-1m</td>\n",
       "      <td>False</td>\n",
       "      <td>0.0317</td>\n",
       "    </tr>\n",
       "    <tr>\n",
       "      <th>5</th>\n",
       "      <td>BERT4Rec</td>\n",
       "      <td>ml-1m</td>\n",
       "      <td>True</td>\n",
       "      <td>0.0172</td>\n",
       "    </tr>\n",
       "    <tr>\n",
       "      <th>7</th>\n",
       "      <td>BERT4Rec</td>\n",
       "      <td>ml-1m</td>\n",
       "      <td>False</td>\n",
       "      <td>0.1613</td>\n",
       "    </tr>\n",
       "    <tr>\n",
       "      <th>9</th>\n",
       "      <td>GRU4Rec</td>\n",
       "      <td>ml-1m</td>\n",
       "      <td>True</td>\n",
       "      <td>0.0132</td>\n",
       "    </tr>\n",
       "  </tbody>\n",
       "</table>\n",
       "</div>"
      ],
      "text/plain": [
       "  model_name dataset  use_cutoff  test_ndcg@10\n",
       "1        NPE   ml-1m        True        0.0062\n",
       "3        NPE   ml-1m       False        0.0317\n",
       "5   BERT4Rec   ml-1m        True        0.0172\n",
       "7   BERT4Rec   ml-1m       False        0.1613\n",
       "9    GRU4Rec   ml-1m        True        0.0132"
      ]
     },
     "execution_count": 6,
     "metadata": {},
     "output_type": "execute_result"
    }
   ],
   "source": [
    "cols = ['model_name', 'dataset', 'use_cutoff', 'test_ndcg@10']\n",
    "\n",
    "df = df_raw[\n",
    "    (df_raw['loss'] == 'CE') \n",
    "    & (df_raw['dataset'].isin(['ml-1m', 'amazon-digital-music']))\n",
    "][cols]\n",
    "\n",
    "df.head()"
   ]
  },
  {
   "cell_type": "code",
   "execution_count": 7,
   "metadata": {},
   "outputs": [
    {
     "data": {
      "text/html": [
       "<div>\n",
       "<style scoped>\n",
       "    .dataframe tbody tr th:only-of-type {\n",
       "        vertical-align: middle;\n",
       "    }\n",
       "\n",
       "    .dataframe tbody tr th {\n",
       "        vertical-align: top;\n",
       "    }\n",
       "\n",
       "    .dataframe thead th {\n",
       "        text-align: right;\n",
       "    }\n",
       "</style>\n",
       "<table border=\"1\" class=\"dataframe\">\n",
       "  <thead>\n",
       "    <tr style=\"text-align: right;\">\n",
       "      <th></th>\n",
       "      <th>dataset</th>\n",
       "      <th>kendall_tau</th>\n",
       "    </tr>\n",
       "  </thead>\n",
       "  <tbody>\n",
       "    <tr>\n",
       "      <th>0</th>\n",
       "      <td>ml-1m</td>\n",
       "      <td>0.666667</td>\n",
       "    </tr>\n",
       "    <tr>\n",
       "      <th>1</th>\n",
       "      <td>amazon-digital-music</td>\n",
       "      <td>0.547723</td>\n",
       "    </tr>\n",
       "  </tbody>\n",
       "</table>\n",
       "</div>"
      ],
      "text/plain": [
       "                dataset  kendall_tau\n",
       "0                 ml-1m     0.666667\n",
       "1  amazon-digital-music     0.547723"
      ]
     },
     "execution_count": 7,
     "metadata": {},
     "output_type": "execute_result"
    }
   ],
   "source": [
    "results = []\n",
    "\n",
    "for dataset in ['ml-1m', 'amazon-digital-music']:\n",
    "    df_each = df[df['dataset'] == dataset]\n",
    "\n",
    "    ndcg_use_cutoff = df_each[df_each['use_cutoff']]['test_ndcg@10']\n",
    "    ndcg_not_use_cutoff = df_each[~df_each['use_cutoff']]['test_ndcg@10']\n",
    "\n",
    "    tau = kendalltau(ndcg_use_cutoff, ndcg_not_use_cutoff).statistic\n",
    "\n",
    "    results.append({'dataset': dataset, 'kendall_tau': tau})\n",
    "\n",
    "df_results = pd.DataFrame.from_records(results)\n",
    "\n",
    "df_results.head()"
   ]
  },
  {
   "cell_type": "code",
   "execution_count": 13,
   "metadata": {},
   "outputs": [
    {
     "data": {
      "text/plain": [
       "Text(0.5, 1.0, \"Kendall's tau between simulated online evaluation \\n and leave-one-out of 4 models on 2 datasets\")"
      ]
     },
     "execution_count": 13,
     "metadata": {},
     "output_type": "execute_result"
    },
    {
     "data": {
      "image/png": "[encoded data removed]",
      "text/plain": [
       "<Figure size 600x400 with 1 Axes>"
      ]
     },
     "metadata": {},
     "output_type": "display_data"
    }
   ],
   "source": [
    "fig = plt.figure(figsize=(6, 4))\n",
    "ax = fig.add_subplot(111)\n",
    "\n",
    "sns.barplot(df_results, x='dataset', y='kendall_tau', ax=ax)\n",
    "for i in range(len(df_results)):\n",
    "    plt.text(\n",
    "        i, \n",
    "        df_results.iloc[i]['kendall_tau'] + 0.01, \n",
    "        f\"{df_results.iloc[i]['kendall_tau']:.3f}\", \n",
    "        ha = 'center',\n",
    "        fontsize=12,\n",
    "    )\n",
    "ax.axhline(y = 0.5, color = 'r', linestyle = '-')\n",
    "ax.set_title(\"Kendall's tau between simulated online evaluation \\n and leave-one-out of 4 models on 2 datasets\", fontweight='bold', fontsize=14)"
   ]
  }
 ],
 "metadata": {
  "kernelspec": {
   "display_name": "thesis",
   "language": "python",
   "name": "python3"
  },
  "language_info": {
   "codemirror_mode": {
    "name": "ipython",
    "version": 3
   },
   "file_extension": ".py",
   "mimetype": "text/x-python",
   "name": "python",
   "nbconvert_exporter": "python",
   "pygments_lexer": "ipython3",
   "version": "3.10.14"
  }
 },
 "nbformat": 4,
 "nbformat_minor": 2
}
